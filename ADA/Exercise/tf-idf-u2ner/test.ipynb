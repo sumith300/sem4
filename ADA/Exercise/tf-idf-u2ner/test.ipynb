{
 "cells": [
  {
   "cell_type": "code",
   "execution_count": 109,
   "id": "e8db2e1b",
   "metadata": {},
   "outputs": [],
   "source": [
    "import pandas as pd\n",
    "import seaborn as sns\n",
    "import matplotlib.pyplot as plt\n",
    "from sklearn.feature_extraction.text import TfidfVectorizer"
   ]
  },
  {
   "cell_type": "code",
   "execution_count": 110,
   "id": "12961fd0",
   "metadata": {},
   "outputs": [],
   "source": [
    "corpus = [\n",
    "    'The cats are in the house.',\n",
    "    'The dogs are in the house and outside.',\n",
    "    'The cats and dogs are friends.'\n",
    "]"
   ]
  },
  {
   "cell_type": "code",
   "execution_count": 111,
   "id": "45b95d94",
   "metadata": {},
   "outputs": [],
   "source": [
    "vectorizer = TfidfVectorizer(\n",
    "stop_words = \"english\",\n",
    "lowercase=True,\n",
    "ngram_range = (1, 2),\n",
    "max_features = 15,\n",
    "min_df = 1,\n",
    "max_df = 0.8)\n",
    "\n",
    "X= vectorizer.fit_transform(corpus)\n",
    "words = vectorizer.get_feature_names_out()\n"
   ]
  },
  {
   "cell_type": "code",
   "execution_count": 112,
   "id": "06fe2c4d",
   "metadata": {},
   "outputs": [
    {
     "data": {
      "text/plain": [
       "array(['cats', 'cats dogs', 'cats house', 'dogs', 'dogs friends',\n",
       "       'dogs house', 'friends', 'house', 'house outside', 'outside'],\n",
       "      dtype=object)"
      ]
     },
     "execution_count": 112,
     "metadata": {},
     "output_type": "execute_result"
    }
   ],
   "source": [
    "words"
   ]
  },
  {
   "cell_type": "code",
   "execution_count": 113,
   "id": "383e6242",
   "metadata": {},
   "outputs": [
    {
     "name": "stdout",
     "output_type": "stream",
     "text": [
      "TF-IDF Matrix:\n",
      "    cats  cats dogs  cats house   dogs  dogs friends  dogs house  friends  \\\n",
      "0  0.302      0.000       0.397  0.000         0.000       0.000    0.000   \n",
      "1  0.000      0.000       0.000  0.168         0.000       0.221    0.000   \n",
      "2  0.168      0.221       0.000  0.168         0.221       0.000    0.221   \n",
      "\n",
      "   house  house outside  outside  \n",
      "0  0.302          0.000    0.000  \n",
      "1  0.168          0.221    0.221  \n",
      "2  0.000          0.000    0.000  \n"
     ]
    }
   ],
   "source": [
    "terms=vectorizer.get_feature_names_out()\n",
    "df_counts=pd.DataFrame(X.toarray(), columns=terms)\n",
    "\n",
    "tf=df_counts.div(df_counts.sum(axis=1), axis=0)\n",
    "\n",
    "print(\"TF-IDF Matrix:\")\n",
    "print(tf.round(3))"
   ]
  },
  {
   "cell_type": "code",
   "execution_count": 114,
   "id": "ee590254",
   "metadata": {},
   "outputs": [
    {
     "name": "stdout",
     "output_type": "stream",
     "text": [
      "\n",
      "IDF Values:\n",
      "           words    IDF\n",
      "1      cats dogs  1.693\n",
      "2     cats house  1.693\n",
      "4   dogs friends  1.693\n",
      "5     dogs house  1.693\n",
      "6        friends  1.693\n",
      "8  house outside  1.693\n",
      "9        outside  1.693\n",
      "0           cats  1.288\n",
      "3           dogs  1.288\n",
      "7          house  1.288\n"
     ]
    }
   ],
   "source": [
    "idf_vals=vectorizer.idf_\n",
    "df_idf=pd.DataFrame({'words':words,'IDF':idf_vals})\n",
    "print(\"\\nIDF Values:\")\n",
    "print(df_idf.sort_values(by='IDF', ascending=False).round(3))"
   ]
  },
  {
   "cell_type": "code",
   "execution_count": 115,
   "id": "7548abb8",
   "metadata": {},
   "outputs": [
    {
     "data": {
      "text/html": [
       "<div>\n",
       "<style scoped>\n",
       "    .dataframe tbody tr th:only-of-type {\n",
       "        vertical-align: middle;\n",
       "    }\n",
       "\n",
       "    .dataframe tbody tr th {\n",
       "        vertical-align: top;\n",
       "    }\n",
       "\n",
       "    .dataframe thead th {\n",
       "        text-align: right;\n",
       "    }\n",
       "</style>\n",
       "<table border=\"1\" class=\"dataframe\">\n",
       "  <thead>\n",
       "    <tr style=\"text-align: right;\">\n",
       "      <th></th>\n",
       "      <th>cats</th>\n",
       "      <th>cats dogs</th>\n",
       "      <th>cats house</th>\n",
       "      <th>dogs</th>\n",
       "      <th>dogs friends</th>\n",
       "      <th>dogs house</th>\n",
       "      <th>friends</th>\n",
       "      <th>house</th>\n",
       "      <th>house outside</th>\n",
       "      <th>outside</th>\n",
       "    </tr>\n",
       "  </thead>\n",
       "  <tbody>\n",
       "    <tr>\n",
       "      <th>Doc 1</th>\n",
       "      <td>0.517856</td>\n",
       "      <td>0.000000</td>\n",
       "      <td>0.680919</td>\n",
       "      <td>0.000000</td>\n",
       "      <td>0.000000</td>\n",
       "      <td>0.000000</td>\n",
       "      <td>0.000000</td>\n",
       "      <td>0.517856</td>\n",
       "      <td>0.000000</td>\n",
       "      <td>0.000000</td>\n",
       "    </tr>\n",
       "    <tr>\n",
       "      <th>Doc 2</th>\n",
       "      <td>0.000000</td>\n",
       "      <td>0.000000</td>\n",
       "      <td>0.000000</td>\n",
       "      <td>0.373022</td>\n",
       "      <td>0.000000</td>\n",
       "      <td>0.490479</td>\n",
       "      <td>0.000000</td>\n",
       "      <td>0.373022</td>\n",
       "      <td>0.490479</td>\n",
       "      <td>0.490479</td>\n",
       "    </tr>\n",
       "    <tr>\n",
       "      <th>Doc 3</th>\n",
       "      <td>0.373022</td>\n",
       "      <td>0.490479</td>\n",
       "      <td>0.000000</td>\n",
       "      <td>0.373022</td>\n",
       "      <td>0.490479</td>\n",
       "      <td>0.000000</td>\n",
       "      <td>0.490479</td>\n",
       "      <td>0.000000</td>\n",
       "      <td>0.000000</td>\n",
       "      <td>0.000000</td>\n",
       "    </tr>\n",
       "  </tbody>\n",
       "</table>\n",
       "</div>"
      ],
      "text/plain": [
       "           cats  cats dogs  cats house      dogs  dogs friends  dogs house  \\\n",
       "Doc 1  0.517856   0.000000    0.680919  0.000000      0.000000    0.000000   \n",
       "Doc 2  0.000000   0.000000    0.000000  0.373022      0.000000    0.490479   \n",
       "Doc 3  0.373022   0.490479    0.000000  0.373022      0.490479    0.000000   \n",
       "\n",
       "        friends     house  house outside   outside  \n",
       "Doc 1  0.000000  0.517856       0.000000  0.000000  \n",
       "Doc 2  0.000000  0.373022       0.490479  0.490479  \n",
       "Doc 3  0.490479  0.000000       0.000000  0.000000  "
      ]
     },
     "execution_count": 115,
     "metadata": {},
     "output_type": "execute_result"
    }
   ],
   "source": [
    "tfidf_df = pd.DataFrame(X.toarray(), columns=vectorizer.get_feature_names_out())\n",
    "tfidf_df.index = [f\"Doc {i+1}\" for i in range(len(corpus))]\n",
    "tfidf_df.index\n",
    "tfidf_df"
   ]
  },
  {
   "cell_type": "code",
   "execution_count": 116,
   "id": "c74a58c4",
   "metadata": {},
   "outputs": [
    {
     "data": {
      "image/png": "[encoded data removed]",
      "text/plain": [
       "<Figure size 800x200 with 2 Axes>"
      ]
     },
     "metadata": {},
     "output_type": "display_data"
    }
   ],
   "source": [
    "plt.figure(figsize=(8, 2))\n",
    "sns.heatmap(tfidf_df, annot=True, cmap='viridis')\n",
    "plt.title('TF-IDF Heatmap')\n",
    "plt.xlabel('Terms')\n",
    "plt.ylabel('Documents')\n",
    "plt.show()"
   ]
  },
  {
   "cell_type": "code",
   "execution_count": 117,
   "id": "bf3be66b",
   "metadata": {},
   "outputs": [],
   "source": [
    "import nltk\n",
    "import spacy\n",
    "from nltk.util import ngrams\n",
    "from collections import Counter\n",
    "\n"
   ]
  },
  {
   "cell_type": "code",
   "execution_count": 118,
   "id": "23be6194",
   "metadata": {},
   "outputs": [],
   "source": [
    "nlp=spacy.load(\"en_core_web_sm\")\n",
    "docs=[\n",
    "    \"Barack Obama was born in Hawaii. Barack Obama was born in.  He was the 44th President of the United States.\",\n",
    "    \"Apple Inc. was founded by Steve Jobs and is headquartered in Cupertino, California.\",\n",
    "    \"Python is a programming language used widely in data science.\"\n",
    "\n",
    "]"
   ]
  },
  {
   "cell_type": "code",
   "execution_count": 119,
   "id": "6bad7a07",
   "metadata": {},
   "outputs": [
    {
     "name": "stdout",
     "output_type": "stream",
     "text": [
      "Documents:\n",
      "Doc 1:\n",
      "Sentence: Barack Obama was born in Hawaii. ()\n",
      "Sentence: Barack Obama was born in.   ()\n",
      "Sentence: He was the 44th President of the United States. ()\n",
      "Doc 2:\n",
      "Sentence: Apple Inc. was founded by Steve Jobs and is headquartered in Cupertino, California. ()\n",
      "Doc 3:\n",
      "Sentence: Python is a programming language used widely in data science. ()\n"
     ]
    }
   ],
   "source": [
    "print(\"Documents:\")\n",
    "for i,doc in enumerate(docs):\n",
    "    print(f\"Doc {i+1}:\")\n",
    "    parsed_doc=nlp(doc)\n",
    "    for sent in parsed_doc.sents:\n",
    "        print(f\"Sentence: {sent.text} ({sent.label_})\")"
   ]
  },
  {
   "cell_type": "code",
   "execution_count": 120,
   "id": "790b6a86",
   "metadata": {},
   "outputs": [
    {
     "name": "stderr",
     "output_type": "stream",
     "text": [
      "[nltk_data] Downloading package punkt to /Users/sumith/nltk_data...\n",
      "[nltk_data]   Package punkt is already up-to-date!\n"
     ]
    },
    {
     "data": {
      "text/plain": [
       "True"
      ]
     },
     "execution_count": 120,
     "metadata": {},
     "output_type": "execute_result"
    }
   ],
   "source": [
    "nltk.download('punkt')"
   ]
  },
  {
   "cell_type": "code",
   "execution_count": 121,
   "id": "ef6bae3d",
   "metadata": {},
   "outputs": [
    {
     "name": "stdout",
     "output_type": "stream",
     "text": [
      "Documents:\n",
      "Doc 1:\n",
      "Bigrams: [(('barack', 'obama'), 2), (('obama', 'was'), 2), (('was', 'born'), 2), (('born', 'in'), 2), (('in', 'hawaii'), 1)]\n",
      "Trigrams: [(('barack', 'obama', 'was'), 2), (('obama', 'was', 'born'), 2), (('was', 'born', 'in'), 2), (('born', 'in', 'hawaii'), 1), (('in', 'hawaii', '.'), 1)]\n",
      "Doc 2:\n",
      "Bigrams: [(('apple', 'inc.'), 1), (('inc.', 'was'), 1), (('was', 'founded'), 1), (('founded', 'by'), 1), (('by', 'steve'), 1)]\n",
      "Trigrams: [(('apple', 'inc.', 'was'), 1), (('inc.', 'was', 'founded'), 1), (('was', 'founded', 'by'), 1), (('founded', 'by', 'steve'), 1), (('by', 'steve', 'jobs'), 1)]\n",
      "Doc 3:\n",
      "Bigrams: [(('python', 'is'), 1), (('is', 'a'), 1), (('a', 'programming'), 1), (('programming', 'language'), 1), (('language', 'used'), 1)]\n",
      "Trigrams: [(('python', 'is', 'a'), 1), (('is', 'a', 'programming'), 1), (('a', 'programming', 'language'), 1), (('programming', 'language', 'used'), 1), (('language', 'used', 'widely'), 1)]\n"
     ]
    }
   ],
   "source": [
    "print(\"Documents:\")\n",
    "for i,doc in enumerate(docs):\n",
    "    print(f\"Doc {i+1}:\")\n",
    "\n",
    "\n",
    "    tokens = nltk.word_tokenize(doc.lower())\n",
    "    bigrams = list(ngrams(tokens, 2))\n",
    "    trigrams = list(ngrams(tokens, 3))\n",
    "\n",
    "    print(f\"Bigrams: {Counter(bigrams).most_common(5)}\")\n",
    "    print(f\"Trigrams: {Counter(trigrams).most_common(5)}\")"
   ]
  },
  {
   "cell_type": "code",
   "execution_count": 122,
   "id": "a9d8a1c4",
   "metadata": {},
   "outputs": [],
   "source": [
    "from sklearn.linear_model import LogisticRegression\n",
    "from sklearn.model_selection import train_test_split\n",
    "from sklearn.metrics import accuracy_score, classification_report\n",
    "from sklearn.cluster import KMeans\n"
   ]
  },
  {
   "cell_type": "code",
   "execution_count": 123,
   "id": "f18c6a7d",
   "metadata": {},
   "outputs": [],
   "source": [
    "nlp = spacy.load(\"en_core_web_sm\")\n",
    "texts = [\n",
    "    \"Barack Obama was born in Hawaii.\",\n",
    "    \"Apple Inc. was founded by Steve Jobs.\",\n",
    "    \"Python is a powerful programming language.\",\n",
    "    \"Microsoft was founded by Bill Gates.\",\n",
    "    \"The United Nations is based in New York.\",\n",
    "    \"New York is a major tech hub.\"\n",
    "]\n",
    "labels = [1, 1, 0, 1, 1, 0]  # 1 = org/person-based, 0 = neutral/technical\n",
    "# labels = [\n",
    "#     1,  # Barack Obama\n",
    "#     1,  # Apple Inc., Steve Jobs\n",
    "#     0,  # Python (general programming language)\n",
    "#     1,  # Microsoft, Bill Gates\n",
    "#     1,  # United Nations, New York\n",
    "#     0,  # New York (location, no named entity as focus)\n",
    "#     1,  # Elon Musk, SpaceX\n",
    "#     0,  # Eiffel Tower, Paris (location and landmark)\n",
    "#     1,  # Amazon, Jeff Bezos\n",
    "#     1,  # Google, Larry Page, Sergey Brin\n",
    "#     0,  # Great Wall of China (landmark)\n",
    "#     1,  # Tesla\n",
    "#     1,  # Facebook\n",
    "#     0,  # Java (technology)\n",
    "#     0,  # iPhone (product)\n",
    "#     1,  # NASA\n",
    "#     0,  # Taj Mahal (landmark)\n",
    "#     0,  # Linux (OS, no named person/org)\n",
    "#     0,  # Pacific Ocean\n",
    "#     1,  # Walt Disney, The Walt Disney Company\n",
    "#     0   # Internet (general tech)\n",
    "# ]\n"
   ]
  },
  {
   "cell_type": "code",
   "execution_count": 124,
   "id": "810fe9ea",
   "metadata": {},
   "outputs": [],
   "source": [
    "vectorizer = TfidfVectorizer()\n",
    "X = vectorizer.fit_transform(texts)\n"
   ]
  },
  {
   "cell_type": "code",
   "execution_count": 125,
   "id": "723461b4",
   "metadata": {},
   "outputs": [
    {
     "name": "stdout",
     "output_type": "stream",
     "text": [
      "Accuracy: 1.0\n",
      "Classification Report:\n",
      "               precision    recall  f1-score   support\n",
      "\n",
      "           1       1.00      1.00      1.00         2\n",
      "\n",
      "    accuracy                           1.00         2\n",
      "   macro avg       1.00      1.00      1.00         2\n",
      "weighted avg       1.00      1.00      1.00         2\n",
      "\n"
     ]
    }
   ],
   "source": [
    "X_train, X_test, y_train, y_test = train_test_split(X,labels ,test_size=0.2, random_state=42)\n",
    "\n",
    "model = LogisticRegression()\n",
    "model.fit(X_train, y_train)\n",
    "y_pred = model.predict(X_test)\n",
    "print(\"Accuracy:\", accuracy_score(y_test, y_pred))\n",
    "print(\"Classification Report:\\n\", classification_report(y_test, y_pred))"
   ]
  },
  {
   "cell_type": "code",
   "execution_count": 126,
   "id": "36bc470e",
   "metadata": {},
   "outputs": [
    {
     "name": "stdout",
     "output_type": "stream",
     "text": [
      "Cluster Centers:\n",
      "\n",
      " predicted Actual labels\n",
      "Doc 1: Predicted Cluster 1, Actual Label 1\n",
      "Doc 2: Predicted Cluster 0, Actual Label 1\n",
      "Doc 3: Predicted Cluster 0, Actual Label 0\n",
      "Doc 4: Predicted Cluster 0, Actual Label 1\n",
      "Doc 5: Predicted Cluster 1, Actual Label 1\n",
      "Doc 6: Predicted Cluster 1, Actual Label 0\n"
     ]
    }
   ],
   "source": [
    "KMeans = KMeans(n_clusters=2, random_state=42)\n",
    "clusters=KMeans.fit_predict(X)\n",
    "\n",
    "print(\"Cluster Centers:\")\n",
    "print(\"\\n predicted Actual labels\")\n",
    "for i, predict in enumerate(clusters):\n",
    "    print(f\"Doc {i+1}: Predicted Cluster {predict}, Actual Label {labels[i]}\")"
   ]
  },
  {
   "cell_type": "code",
   "execution_count": null,
   "id": "b9760ae8",
   "metadata": {},
   "outputs": [],
   "source": []
  }
 ],
 "metadata": {
  "kernelspec": {
   "display_name": "Python 3",
   "language": "python",
   "name": "python3"
  },
  "language_info": {
   "codemirror_mode": {
    "name": "ipython",
    "version": 3
   },
   "file_extension": ".py",
   "mimetype": "text/x-python",
   "name": "python",
   "nbconvert_exporter": "python",
   "pygments_lexer": "ipython3",
   "version": "3.13.5"
  }
 },
 "nbformat": 4,
 "nbformat_minor": 5
}
