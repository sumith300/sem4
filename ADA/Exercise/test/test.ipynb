{
 "cells": [
  {
   "cell_type": "code",
   "execution_count": 3,
   "id": "1443bb3a",
   "metadata": {},
   "outputs": [
    {
     "name": "stdout",
     "output_type": "stream",
     "text": [
      "Correlation Coefficient: 0.99\n"
     ]
    }
   ],
   "source": [
    "import numpy as np\n",
    "\n",
    "hours = [1, 2, 3, 4, 5]\n",
    "marks = [50, 55, 60, 70, 75]\n",
    "\n",
    "correlation = np.corrcoef(hours, marks)[0, 1]\n",
    "print(f\"Correlation Coefficient: {correlation:.2f}\")\n"
   ]
  },
  {
   "cell_type": "code",
   "execution_count": 1,
   "id": "9f086ec5",
   "metadata": {},
   "outputs": [
    {
     "name": "stdout",
     "output_type": "stream",
     "text": [
      "Predicted Marks: 77.5\n"
     ]
    }
   ],
   "source": [
    "from sklearn.linear_model import LinearRegression\n",
    "import numpy as np\n",
    "\n",
    "# Example data\n",
    "X = np.array([[1], [2], [3], [4]])  # Hours studied\n",
    "y = np.array([50, 55, 65, 70])      # Marks\n",
    "\n",
    "model = LinearRegression()\n",
    "model.fit(X, y)\n",
    "\n",
    "# Predict marks for 5 hours of study\n",
    "predicted = model.predict([[5]])\n",
    "print(f\"Predicted Marks: {predicted[0]}\")\n"
   ]
  },
  {
   "cell_type": "code",
   "execution_count": 2,
   "id": "249ba537",
   "metadata": {},
   "outputs": [
    {
     "name": "stdout",
     "output_type": "stream",
     "text": [
      "Predicted Score: 70.00\n"
     ]
    }
   ],
   "source": [
    "from sklearn.linear_model import LinearRegression\n",
    "import numpy as np\n",
    "\n",
    "# Features: [hours studied, practice tests taken, attendance %]\n",
    "X = np.array([\n",
    "    [2, 1, 80],\n",
    "    [4, 2, 85],\n",
    "    [5, 3, 90],\n",
    "    [6, 4, 92]\n",
    "])\n",
    "\n",
    "# Final exam scores\n",
    "y = np.array([60, 70, 80, 90])\n",
    "\n",
    "# Build and train the model\n",
    "model = LinearRegression()\n",
    "model.fit(X, y)\n",
    "\n",
    "# Predict for a student who studied 5 hours, took 2 tests, and had 88% attendance\n",
    "prediction = model.predict([[5, 2, 88]])\n",
    "print(f\"Predicted Score: {prediction[0]:.2f}\")\n"
   ]
  },
  {
   "cell_type": "code",
   "execution_count": 4,
   "id": "6b587585",
   "metadata": {},
   "outputs": [
    {
     "name": "stdout",
     "output_type": "stream",
     "text": [
      "Pass\n"
     ]
    }
   ],
   "source": [
    "from sklearn.linear_model import LogisticRegression\n",
    "\n",
    "# Hours studied, Number of assignments submitted\n",
    "X = [[1, 1], [2, 1], [3, 2], [4, 3], [5, 3]]\n",
    "# 0 = Fail, 1 = Pass\n",
    "y = [0, 0, 1, 1, 1]\n",
    "\n",
    "model = LogisticRegression()\n",
    "model.fit(X, y)\n",
    "\n",
    "# Predict if a student who studied 3 hours and submitted 2 assignments will pass\n",
    "prediction = model.predict([[3, 2]])\n",
    "print(\"Pass\" if prediction[0] == 1 else \"Fail\")\n"
   ]
  },
  {
   "cell_type": "code",
   "execution_count": 5,
   "id": "42af4638",
   "metadata": {},
   "outputs": [
    {
     "name": "stdout",
     "output_type": "stream",
     "text": [
      "[1]\n"
     ]
    }
   ],
   "source": [
    "from sklearn.tree import DecisionTreeClassifier\n",
    "\n",
    "# [income (1=High, 0=Low), credit (1=Good, 0=Poor)]\n",
    "X = [[1,1], [0,1], [1,0], [0,0]]\n",
    "y = [1, 0, 0, 0]  # 1 = Approved, 0 = Not Approved\n",
    "\n",
    "model = DecisionTreeClassifier()\n",
    "model.fit(X, y)\n",
    "\n",
    "# Predict loan approval for High income & Good credit\n",
    "print(model.predict([[1,1]]))  # Output: [1] → Approved\n"
   ]
  },
  {
   "cell_type": "code",
   "execution_count": 6,
   "id": "befc4c08",
   "metadata": {},
   "outputs": [
    {
     "name": "stdout",
     "output_type": "stream",
     "text": [
      "   Gender  LabelEncoded  Gender_Female  Gender_Male\n",
      "0    Male             1          False         True\n",
      "1  Female             0           True        False\n",
      "2  Female             0           True        False\n",
      "3    Male             1          False         True\n"
     ]
    }
   ],
   "source": [
    "from sklearn.preprocessing import LabelEncoder, OneHotEncoder\n",
    "import pandas as pd\n",
    "\n",
    "# Example data\n",
    "data = pd.DataFrame({'Gender': ['Male', 'Female', 'Female', 'Male']})\n",
    "\n",
    "# Label Encoding\n",
    "le = LabelEncoder()\n",
    "data['LabelEncoded'] = le.fit_transform(data['Gender'])\n",
    "\n",
    "# One Hot Encoding\n",
    "ohe = pd.get_dummies(data['Gender'], prefix='Gender')\n",
    "data = pd.concat([data, ohe], axis=1)\n",
    "\n",
    "print(data)\n"
   ]
  },
  {
   "cell_type": "code",
   "execution_count": 7,
   "id": "eed12627",
   "metadata": {},
   "outputs": [
    {
     "data": {
      "image/png": "[encoded data removed]",
      "text/plain": [
       "<Figure size 800x400 with 1 Axes>"
      ]
     },
     "metadata": {},
     "output_type": "display_data"
    }
   ],
   "source": [
    "import pandas as pd\n",
    "import matplotlib.pyplot as plt\n",
    "\n",
    "# Sample time series\n",
    "dates = pd.date_range(start=\"2024-01-01\", periods=10)\n",
    "sales = [100, 110, 120, 130, 140, 145, 150, 160, 165, 170]\n",
    "\n",
    "df = pd.DataFrame({'Date': dates, 'Sales': sales})\n",
    "df.set_index('Date', inplace=True)\n",
    "\n",
    "# Plot\n",
    "df.plot(title='Sales Over Time', figsize=(8, 4))\n",
    "plt.xlabel(\"Date\")\n",
    "plt.ylabel(\"Sales\")\n",
    "plt.grid()\n",
    "plt.show()\n",
    "\n"
   ]
  },
  {
   "cell_type": "code",
   "execution_count": null,
   "id": "928ccc77",
   "metadata": {},
   "outputs": [],
   "source": []
  }
 ],
 "metadata": {
  "kernelspec": {
   "display_name": "Python 3",
   "language": "python",
   "name": "python3"
  },
  "language_info": {
   "codemirror_mode": {
    "name": "ipython",
    "version": 3
   },
   "file_extension": ".py",
   "mimetype": "text/x-python",
   "name": "python",
   "nbconvert_exporter": "python",
   "pygments_lexer": "ipython3",
   "version": "3.13.5"
  }
 },
 "nbformat": 4,
 "nbformat_minor": 5
}
