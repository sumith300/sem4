{
 "cells": [
  {
   "cell_type": "code",
   "execution_count": 1,
   "id": "398c539b",
   "metadata": {},
   "outputs": [],
   "source": [
    "t1=\"the ctas are in the house\"\n",
    "t2=\"the dogs are in the house and outside\"\n",
    "t3=\"the cats and dogs are friends\"\n"
   ]
  },
  {
   "cell_type": "code",
   "execution_count": null,
   "id": "c70da644",
   "metadata": {},
   "outputs": [],
   "source": [
    "\n",
    "import pandas as pd\n",
    "from sklearn.preprocessing import OneHotEncoder\n",
    "from sklearn.feature_extraction.text import CountVectorizer,TfidfTransformer\n",
    "from nltk.corpus import wordnet"
   ]
  },
  {
   "cell_type": "code",
   "execution_count": 15,
   "id": "23d997b8",
   "metadata": {},
   "outputs": [],
   "source": [
    "from nltk.tokenize import word_tokenize\n",
    "\n",
    "token_d1=word_tokenize(t1)\n",
    "token_d2=word_tokenize(t2)\n",
    "token_d3=word_tokenize(t3)\n"
   ]
  },
  {
   "cell_type": "code",
   "execution_count": 19,
   "id": "295bd049",
   "metadata": {},
   "outputs": [
    {
     "name": "stdout",
     "output_type": "stream",
     "text": [
      "TF-IDF Vectors for Document 1:\n",
      "[[0. 0. 0. 0. 1.]\n",
      " [0. 1. 0. 0. 0.]\n",
      " [1. 0. 0. 0. 0.]\n",
      " [0. 0. 0. 1. 0.]\n",
      " [0. 0. 0. 0. 1.]\n",
      " [0. 0. 1. 0. 0.]]\n",
      "TF-IDF Vectors for Document 2:\n",
      "[[0. 0. 0. 0. 0. 0. 1.]\n",
      " [0. 0. 1. 0. 0. 0. 0.]\n",
      " [0. 1. 0. 0. 0. 0. 0.]\n",
      " [0. 0. 0. 0. 1. 0. 0.]\n",
      " [0. 0. 0. 0. 0. 0. 1.]\n",
      " [0. 0. 0. 1. 0. 0. 0.]\n",
      " [1. 0. 0. 0. 0. 0. 0.]\n",
      " [0. 0. 0. 0. 0. 1. 0.]]\n",
      "TF-IDF Vectors for Document 3:\n",
      "[[0. 0. 0. 0. 0. 1.]\n",
      " [0. 0. 1. 0. 0. 0.]\n",
      " [1. 0. 0. 0. 0. 0.]\n",
      " [0. 0. 0. 1. 0. 0.]\n",
      " [0. 1. 0. 0. 0. 0.]\n",
      " [0. 0. 0. 0. 1. 0.]]\n"
     ]
    }
   ],
   "source": [
    "from sklearn.feature_extraction.text import TfidfVectorizer\n",
    "\n",
    "tfidf = TfidfVectorizer()\n",
    "tfidf_vectors = tfidf.fit_transform(token_d1)\n",
    "tfidf_vectors2 = tfidf.fit_transform(token_d2)\n",
    "tfidf_vectors3 = tfidf.fit_transform(token_d3)\n",
    "\n",
    "print(\"TF-IDF Vectors for Document 1:\")\n",
    "print(tfidf_vectors.toarray())\n",
    "print(\"TF-IDF Vectors for Document 2:\")\n",
    "print(tfidf_vectors2.toarray())\n",
    "print(\"TF-IDF Vectors for Document 3:\")\n",
    "print(tfidf_vectors3.toarray())\n"
   ]
  }
 ],
 "metadata": {
  "kernelspec": {
   "display_name": "Python 3",
   "language": "python",
   "name": "python3"
  },
  "language_info": {
   "codemirror_mode": {
    "name": "ipython",
    "version": 3
   },
   "file_extension": ".py",
   "mimetype": "text/x-python",
   "name": "python",
   "nbconvert_exporter": "python",
   "pygments_lexer": "ipython3",
   "version": "3.13.5"
  }
 },
 "nbformat": 4,
 "nbformat_minor": 5
}
